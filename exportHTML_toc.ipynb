{
 "cells": [
  {
   "cell_type": "code",
   "execution_count": 9,
   "id": "curious-diary",
   "metadata": {},
   "outputs": [
    {
     "name": "stdout",
     "output_type": "stream",
     "text": [
      "Result HTML file: ./p1_blog_airBnB.html\n"
     ]
    }
   ],
   "source": [
    "import os\n",
    "import nbformat\n",
    "from nbconvert import HTMLExporter\n",
    "from nbconvert.preprocessors import ExecutePreprocessor\n",
    "\n",
    "nb_path = './p1_blog_airBnB.ipynb'\n",
    "with open(nb_path) as f:\n",
    "    nb = nbformat.read(f, as_version=4)\n",
    "\n",
    "ep = ExecutePreprocessor(kernel_name='python3')\n",
    "ep.preprocess(nb)\n",
    "exporter = HTMLExporter(template_file=\"/Users/myles/opt/anaconda3/lib/python3.8/site-packages/jupyter_contrib_nbextensions/templates/toc2.tpl\")\n",
    "html, _ = exporter.from_notebook_node(nb)\n",
    "\n",
    "output_html_file = f\"./p1_blog_airBnB.html\"\n",
    "with open(output_html_file, \"w\") as f:\n",
    "    f.write(html)\n",
    "    f.close()\n",
    "print(f\"Result HTML file: {output_html_file}\")"
   ]
  },
  {
   "cell_type": "code",
   "execution_count": null,
   "id": "regulation-mirror",
   "metadata": {},
   "outputs": [],
   "source": []
  }
 ],
 "metadata": {
  "kernelspec": {
   "display_name": "Python 3",
   "language": "python",
   "name": "python3"
  },
  "language_info": {
   "codemirror_mode": {
    "name": "ipython",
    "version": 3
   },
   "file_extension": ".py",
   "mimetype": "text/x-python",
   "name": "python",
   "nbconvert_exporter": "python",
   "pygments_lexer": "ipython3",
   "version": "3.8.5"
  },
  "toc": {
   "base_numbering": 1,
   "nav_menu": {},
   "number_sections": true,
   "sideBar": true,
   "skip_h1_title": false,
   "title_cell": "Table of Contents",
   "title_sidebar": "Contents",
   "toc_cell": false,
   "toc_position": {},
   "toc_section_display": true,
   "toc_window_display": false
  }
 },
 "nbformat": 4,
 "nbformat_minor": 5
}
